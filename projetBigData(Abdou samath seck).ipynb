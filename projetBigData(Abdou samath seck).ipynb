{
 "cells": [
  {
   "cell_type": "markdown",
   "id": "49ab7f0d",
   "metadata": {},
   "source": [
    " Nom Etudiant : Seck\n",
    "\n",
    "Prenom Etudiant: Abdou Samath\n",
    "\n",
    "Classe :ING3 IPSL"
   ]
  },
  {
   "cell_type": "code",
   "execution_count": 1,
   "id": "4131dd4e",
   "metadata": {},
   "outputs": [
    {
     "data": {
      "text/plain": [
       "Intitializing Scala interpreter ..."
      ]
     },
     "metadata": {},
     "output_type": "display_data"
    },
    {
     "data": {
      "text/plain": [
       "Spark Web UI available at http://10.151.52.142:4040\n",
       "SparkContext available as 'sc' (version = 3.3.1, master = local[*], app id = local-1685201078622)\n",
       "SparkSession available as 'spark'\n"
      ]
     },
     "metadata": {},
     "output_type": "display_data"
    },
    {
     "name": "stdout",
     "output_type": "stream",
     "text": [
      "23/05/27 15:24:51 WARN SparkSession: Using an existing Spark session; only runtime SQL configurations will take effect.\n"
     ]
    },
    {
     "data": {
      "text/plain": [
       "import org.apache.spark.sql.SparkSession\n",
       "spark: org.apache.spark.sql.SparkSession = org.apache.spark.sql.SparkSession@77283bfa\n"
      ]
     },
     "execution_count": 1,
     "metadata": {},
     "output_type": "execute_result"
    }
   ],
   "source": [
    "import org.apache.spark.sql.SparkSession\n",
    "val spark = SparkSession.builder.\n",
    "                        appName(\"Projet Spark\").\n",
    "                        config(\"spark.ui.port\", \"0\").\n",
    "                        master(\"local[*]\").\n",
    "                        getOrCreate()"
   ]
  },
  {
   "cell_type": "code",
   "execution_count": 2,
   "id": "9bef6ac5",
   "metadata": {},
   "outputs": [
    {
     "data": {
      "text/plain": [
       "eventsPath: String = datasets/events/events.json\n"
      ]
     },
     "execution_count": 2,
     "metadata": {},
     "output_type": "execute_result"
    }
   ],
   "source": [
    "val eventsPath = \"datasets/events/events.json\""
   ]
  },
  {
   "cell_type": "code",
   "execution_count": 3,
   "id": "5d4b25cf",
   "metadata": {},
   "outputs": [
    {
     "name": "stdout",
     "output_type": "stream",
     "text": [
      "+-------+------------------+----------+------------------------+----------------+--------------------+--------------------+--------------+--------------------------+-----------------+\n",
      "| device|         ecommerce|event_name|event_previous_timestamp| event_timestamp|                 geo|               items|traffic_source|user_first_touch_timestamp|          user_id|\n",
      "+-------+------------------+----------+------------------------+----------------+--------------------+--------------------+--------------+--------------------------+-----------------+\n",
      "|  macOS|{null, null, null}|  warranty|        1593878899217692|1593878946592107|      {Montrose, MI}|                  []|        google|          1593878899217692|UA000000107379500|\n",
      "|Windows|{null, null, null}|     press|        1593876662175340|1593877011756535|   {Northampton, MA}|                  []|        google|          1593876662175340|UA000000107359357|\n",
      "|  macOS|{null, null, null}|  add_item|        1593878792892652|1593878815459100|       {Salinas, CA}|[{null, M_STAN_T,...|       youtube|          1593878455472030|UA000000107375547|\n",
      "|    iOS|{null, null, null}|mattresses|        1593878178791663|1593878809276923|       {Everett, MA}|                  []|      facebook|          1593877903116176|UA000000107370581|\n",
      "|Windows|{null, null, null}|mattresses|                    null|1593878628143633| {Cottage Grove, MN}|                  []|        google|          1593878628143633|UA000000107377108|\n",
      "|Windows|{null, null, null}|      main|                    null|1593878634344194|        {Medina, MN}|                  []|       youtube|          1593878634344194|UA000000107377161|\n",
      "|    iOS|{null, null, null}|      main|                    null|1593877936171803|{Mount Pleasant, UT}|                  []|        direct|          1593877936171803|UA000000107370851|\n",
      "|  macOS|{null, null, null}|      main|                    null|1593876843215329|      {Piedmont, AL}|                  []|     instagram|          1593876843215329|UA000000107360961|\n",
      "|Android|{null, null, null}|  warranty|        1593878529774474|1593879213196400|{Rancho Santa Mar...|                  []|     instagram|          1593878529774474|UA000000107376205|\n",
      "|Windows|{null, null, null}|      main|                    null|1593876713246514|        {Elyria, OH}|                  []|      facebook|          1593876713246514|UA000000107359805|\n",
      "|    iOS|{null, null, null}|  original|        1593878068949001|1593878170903989|      {Longview, WA}|                  []|        google|          1593877826716812|UA000000107369909|\n",
      "|  Linux|{null, null, null}|      main|                    null|1593878036347579|     {Lyndhurst, OH}|                  []|        direct|          1593878036347579|UA000000107371743|\n",
      "|Android|{null, null, null}|      down|        1593879057792999|1593879125815755|       {Jackson, MO}|                  []|      facebook|          1593879057792999|UA000000107380961|\n",
      "|  Linux|{null, null, null}|      main|                    null|1593878672173087|  {Cedar Rapids, IA}|                  []|        google|          1593878672173087|UA000000107377487|\n",
      "|  macOS|{null, null, null}|      main|                    null|1593876429415452|       {Phoenix, AZ}|                  []|        google|          1593876429415452|UA000000107357350|\n",
      "|    iOS|{null, null, null}|mattresses|                    null|1593876687337581|       {Warwick, RI}|                  []|        google|          1593876687337581|UA000000107359573|\n",
      "|  macOS|{null, null, null}|   premium|        1593877223736871|1593877973962436|       {Everett, WA}|                  []|     instagram|          1593877223736871|UA000000107364368|\n",
      "|Windows|{null, null, null}|   reviews|        1593876442432487|1593876944661570|       {Concord, CA}|                  []|        direct|          1593876442432487|UA000000107357467|\n",
      "|    iOS|{null, null, null}|  original|        1593877781854634|1593877788141768|      {Dunwoody, GA}|                  []|        google|          1593877781854634|UA000000107369512|\n",
      "|    iOS|{null, null, null}|      main|        1593877445670953|1593877497207417|     {Rochester, MN}|                  []|      facebook|          1593877300577217|UA000000107365065|\n",
      "+-------+------------------+----------+------------------------+----------------+--------------------+--------------------+--------------+--------------------------+-----------------+\n",
      "only showing top 20 rows\n",
      "\n"
     ]
    },
    {
     "data": {
      "text/plain": [
       "eventsDF: org.apache.spark.sql.DataFrame = [device: string, ecommerce: struct<purchase_revenue_in_usd: double, total_item_quantity: bigint ... 1 more field> ... 8 more fields]\n"
      ]
     },
     "execution_count": 3,
     "metadata": {},
     "output_type": "execute_result"
    }
   ],
   "source": [
    "val eventsDF = spark.read.json(eventsPath)\n",
    "eventsDF.show()"
   ]
  },
  {
   "cell_type": "markdown",
   "id": "3eb2200f",
   "metadata": {},
   "source": [
    "## 1. Extraire les revenus d'achat pour chaque événement"
   ]
  },
  {
   "cell_type": "code",
   "execution_count": 4,
   "id": "ad698b63",
   "metadata": {},
   "outputs": [
    {
     "name": "stdout",
     "output_type": "stream",
     "text": [
      "+-------+------------------+----------+------------------------+----------------+--------------------+--------------------+--------------+--------------------------+-----------------+-------+\n",
      "| device|         ecommerce|event_name|event_previous_timestamp| event_timestamp|                 geo|               items|traffic_source|user_first_touch_timestamp|          user_id|revenue|\n",
      "+-------+------------------+----------+------------------------+----------------+--------------------+--------------------+--------------+--------------------------+-----------------+-------+\n",
      "|  macOS|{null, null, null}|  warranty|        1593878899217692|1593878946592107|      {Montrose, MI}|                  []|        google|          1593878899217692|UA000000107379500|   null|\n",
      "|Windows|{null, null, null}|     press|        1593876662175340|1593877011756535|   {Northampton, MA}|                  []|        google|          1593876662175340|UA000000107359357|   null|\n",
      "|  macOS|{null, null, null}|  add_item|        1593878792892652|1593878815459100|       {Salinas, CA}|[{null, M_STAN_T,...|       youtube|          1593878455472030|UA000000107375547|   null|\n",
      "|    iOS|{null, null, null}|mattresses|        1593878178791663|1593878809276923|       {Everett, MA}|                  []|      facebook|          1593877903116176|UA000000107370581|   null|\n",
      "|Windows|{null, null, null}|mattresses|                    null|1593878628143633| {Cottage Grove, MN}|                  []|        google|          1593878628143633|UA000000107377108|   null|\n",
      "|Windows|{null, null, null}|      main|                    null|1593878634344194|        {Medina, MN}|                  []|       youtube|          1593878634344194|UA000000107377161|   null|\n",
      "|    iOS|{null, null, null}|      main|                    null|1593877936171803|{Mount Pleasant, UT}|                  []|        direct|          1593877936171803|UA000000107370851|   null|\n",
      "|  macOS|{null, null, null}|      main|                    null|1593876843215329|      {Piedmont, AL}|                  []|     instagram|          1593876843215329|UA000000107360961|   null|\n",
      "|Android|{null, null, null}|  warranty|        1593878529774474|1593879213196400|{Rancho Santa Mar...|                  []|     instagram|          1593878529774474|UA000000107376205|   null|\n",
      "|Windows|{null, null, null}|      main|                    null|1593876713246514|        {Elyria, OH}|                  []|      facebook|          1593876713246514|UA000000107359805|   null|\n",
      "|    iOS|{null, null, null}|  original|        1593878068949001|1593878170903989|      {Longview, WA}|                  []|        google|          1593877826716812|UA000000107369909|   null|\n",
      "|  Linux|{null, null, null}|      main|                    null|1593878036347579|     {Lyndhurst, OH}|                  []|        direct|          1593878036347579|UA000000107371743|   null|\n",
      "|Android|{null, null, null}|      down|        1593879057792999|1593879125815755|       {Jackson, MO}|                  []|      facebook|          1593879057792999|UA000000107380961|   null|\n",
      "|  Linux|{null, null, null}|      main|                    null|1593878672173087|  {Cedar Rapids, IA}|                  []|        google|          1593878672173087|UA000000107377487|   null|\n",
      "|  macOS|{null, null, null}|      main|                    null|1593876429415452|       {Phoenix, AZ}|                  []|        google|          1593876429415452|UA000000107357350|   null|\n",
      "|    iOS|{null, null, null}|mattresses|                    null|1593876687337581|       {Warwick, RI}|                  []|        google|          1593876687337581|UA000000107359573|   null|\n",
      "|  macOS|{null, null, null}|   premium|        1593877223736871|1593877973962436|       {Everett, WA}|                  []|     instagram|          1593877223736871|UA000000107364368|   null|\n",
      "|Windows|{null, null, null}|   reviews|        1593876442432487|1593876944661570|       {Concord, CA}|                  []|        direct|          1593876442432487|UA000000107357467|   null|\n",
      "|    iOS|{null, null, null}|  original|        1593877781854634|1593877788141768|      {Dunwoody, GA}|                  []|        google|          1593877781854634|UA000000107369512|   null|\n",
      "|    iOS|{null, null, null}|      main|        1593877445670953|1593877497207417|     {Rochester, MN}|                  []|      facebook|          1593877300577217|UA000000107365065|   null|\n",
      "+-------+------------------+----------+------------------------+----------------+--------------------+--------------------+--------------+--------------------------+-----------------+-------+\n",
      "only showing top 20 rows\n",
      "\n"
     ]
    },
    {
     "data": {
      "text/plain": [
       "import org.apache.spark.sql.functions._\n",
       "revenueDF: org.apache.spark.sql.DataFrame = [device: string, ecommerce: struct<purchase_revenue_in_usd: double, total_item_quantity: bigint ... 1 more field> ... 9 more fields]\n"
      ]
     },
     "execution_count": 4,
     "metadata": {},
     "output_type": "execute_result"
    }
   ],
   "source": [
    "import org.apache.spark.sql.functions._\n",
    "\n",
    "val revenueDF = eventsDF.withColumn(\"revenue\", col(\"ecommerce.purchase_revenue_in_usd\"))\n",
    "\n",
    "revenueDF.show()\n"
   ]
  },
  {
   "cell_type": "markdown",
   "id": "32572734",
   "metadata": {},
   "source": [
    "## 2. Filtrons les événements dont le revenu n'est pas null"
   ]
  },
  {
   "cell_type": "code",
   "execution_count": 5,
   "id": "30992d36",
   "metadata": {},
   "outputs": [
    {
     "name": "stdout",
     "output_type": "stream",
     "text": [
      "+---------+--------------+----------+------------------------+----------------+--------------------+--------------------+--------------+--------------------------+-----------------+-------+\n",
      "|   device|     ecommerce|event_name|event_previous_timestamp| event_timestamp|                 geo|               items|traffic_source|user_first_touch_timestamp|          user_id|revenue|\n",
      "+---------+--------------+----------+------------------------+----------------+--------------------+--------------------+--------------+--------------------------+-----------------+-------+\n",
      "|    Linux|{1195.0, 1, 1}|  finalize|        1593878893766134|1593878897648871|       {Shawnee, KS}|[{null, M_STAN_K,...|        google|          1593876996316576|UA000000107362263| 1195.0|\n",
      "|      iOS|{1045.0, 1, 1}|  finalize|        1593878485345763|1593878487460247|       {Detroit, MI}|[{null, M_STAN_Q,...|      facebook|          1593877230282722|UA000000107364432| 1045.0|\n",
      "|  Android| {595.0, 1, 1}|  finalize|        1593877930076602|1593878966392505|  {East Chicago, IN}|[{null, M_STAN_T,...|        google|          1593876889575474|UA000000107361347|  595.0|\n",
      "|      iOS|{2290.0, 2, 2}|  finalize|        1593877650094042|1593877652106953|       {Warwick, RI}|[{null, M_PREM_F,...|        google|          1593876687337581|UA000000107359573| 2290.0|\n",
      "|    macOS| {945.0, 1, 1}|  finalize|        1593879151529456|1593879197837168|     {Boonville, MO}|[{null, M_STAN_F,...|      facebook|          1593878603312910|UA000000107376872|  945.0|\n",
      "|  Windows| {595.0, 1, 1}|  finalize|        1593877908876473|1593878020119079|       {Hampton, VA}|[{null, M_STAN_T,...|        google|          1593877033894464|UA000000107362622|  595.0|\n",
      "|  Android| {945.0, 1, 1}|  finalize|        1593878355764861|1593878641498265|{White Bear Lake,...|[{null, M_STAN_F,...|        direct|          1593877080764516|UA000000107363039|  945.0|\n",
      "|Chrome OS|{1095.0, 1, 1}|  finalize|        1593879073813036|1593879191730221|   {San Antonio, TX}|[{null, M_PREM_T,...|     instagram|          1593877153633764|UA000000107363715| 1095.0|\n",
      "|    macOS|{1045.0, 1, 1}|  finalize|        1593877425584678|1593877429621158|        {Searcy, AR}|[{null, M_STAN_Q,...|        direct|          1593876851338276|UA000000107361027| 1045.0|\n",
      "|      iOS|{1045.0, 1, 1}|  finalize|        1593878984623390|1593879046209960|     {Southport, IN}|[{null, M_STAN_Q,...|     instagram|          1593876574686487|UA000000107358614| 1045.0|\n",
      "|  Windows|{1045.0, 1, 1}|  finalize|        1593434694145790|1593434696316863|      {Columbus, OH}|[{null, M_STAN_Q,...|     instagram|          1593432259276789|UA000000106006620| 1045.0|\n",
      "|    macOS|{1640.0, 2, 2}|  finalize|        1593436589297426|1593436628314991|{St. Petersburg, FL}|[{null, M_STAN_T,...|      facebook|          1593433771174842|UA000000106011218| 1640.0|\n",
      "|Chrome OS| {654.0, 2, 2}|  finalize|        1593427561736870|1593428248499261|        {Farley, IA}|[{null, M_STAN_T,...|        google|          1593424867073851|UA000000105991167|  654.0|\n",
      "|  Windows|{1045.0, 1, 1}|  finalize|        1593388148852162|1593388365815897|       {Houston, TX}|[{null, M_STAN_Q,...|        direct|          1593383873231306|UA000000105957934| 1045.0|\n",
      "|  Windows|{1795.0, 1, 1}|  finalize|        1593399598968123|1593399696924475|        {Monroe, LA}|[{null, M_PREM_Q,...|      facebook|          1593398458152390|UA000000105978828| 1795.0|\n",
      "|  Android|{1195.0, 1, 1}|  finalize|        1593416200959556|1593416273461695|{Donaldsonville, LA}|[{null, M_STAN_K,...|        google|          1593415794401939|UA000000105983663| 1195.0|\n",
      "|      iOS|{1195.0, 1, 1}|  finalize|        1593394478371736|1593395580886846|    {Shreveport, LA}|[{null, M_STAN_K,...|        google|          1593388592209010|UA000000105968663| 1195.0|\n",
      "|      iOS|{1128.6, 2, 2}|  finalize|        1593763506976463|1593763527292050|     {San Ramon, CA}|[{NEWBED10, M_STA...|         email|          1593439553381667|UA000000106033948| 1128.6|\n",
      "|  Android|{1075.5, 1, 1}|  finalize|        1593529030162886|1593529604747277|     {La Vernia, TX}|[{NEWBED10, M_STA...|         email|          1593385351347346|UA000000105961848| 1075.5|\n",
      "|  Windows| {595.0, 1, 1}|  finalize|        1593439102031927|1593439865607689|        {Boston, MA}|[{null, M_STAN_T,...|      facebook|          1593435521455326|UA000000106017264|  595.0|\n",
      "+---------+--------------+----------+------------------------+----------------+--------------------+--------------------+--------------+--------------------------+-----------------+-------+\n",
      "only showing top 20 rows\n",
      "\n"
     ]
    },
    {
     "data": {
      "text/plain": [
       "purchasesDF: org.apache.spark.sql.Dataset[org.apache.spark.sql.Row] = [device: string, ecommerce: struct<purchase_revenue_in_usd: double, total_item_quantity: bigint ... 1 more field> ... 9 more fields]\n"
      ]
     },
     "execution_count": 5,
     "metadata": {},
     "output_type": "execute_result"
    }
   ],
   "source": [
    "val purchasesDF = revenueDF.filter(col(\"revenue\").isNotNull)\n",
    "\n",
    "purchasesDF.show()\n"
   ]
  },
  {
   "cell_type": "markdown",
   "id": "b9ba104d",
   "metadata": {},
   "source": [
    "## 3. Vérifions quels sont les types d'événements qui génèrent des revenus\n",
    "\n"
   ]
  },
  {
   "cell_type": "code",
   "execution_count": 6,
   "id": "b26e8b85",
   "metadata": {},
   "outputs": [
    {
     "name": "stdout",
     "output_type": "stream",
     "text": [
      "+----------+\n",
      "|event_name|\n",
      "+----------+\n",
      "|  finalize|\n",
      "+----------+\n",
      "\n"
     ]
    },
    {
     "data": {
      "text/plain": [
       "distinctDF: org.apache.spark.sql.Dataset[org.apache.spark.sql.Row] = [event_name: string]\n"
      ]
     },
     "execution_count": 6,
     "metadata": {},
     "output_type": "execute_result"
    }
   ],
   "source": [
    "val distinctDF = purchasesDF.select(\"event_name\").distinct()\n",
    "\n",
    "distinctDF.show()\n"
   ]
  },
  {
   "cell_type": "markdown",
   "id": "3cecba42",
   "metadata": {},
   "source": [
    "# ## 4. Supprimons la colonne inutile\n",
    "Puisqu'il n'y a qu'un seul type d'événement, supprimez event_name de purchasesDF."
   ]
  },
  {
   "cell_type": "code",
   "execution_count": 7,
   "id": "8be86d48",
   "metadata": {},
   "outputs": [
    {
     "name": "stdout",
     "output_type": "stream",
     "text": [
      "+---------+--------------+------------------------+----------------+--------------------+--------------------+--------------+--------------------------+-----------------+-------+\n",
      "|   device|     ecommerce|event_previous_timestamp| event_timestamp|                 geo|               items|traffic_source|user_first_touch_timestamp|          user_id|revenue|\n",
      "+---------+--------------+------------------------+----------------+--------------------+--------------------+--------------+--------------------------+-----------------+-------+\n",
      "|    Linux|{1195.0, 1, 1}|        1593878893766134|1593878897648871|       {Shawnee, KS}|[{null, M_STAN_K,...|        google|          1593876996316576|UA000000107362263| 1195.0|\n",
      "|      iOS|{1045.0, 1, 1}|        1593878485345763|1593878487460247|       {Detroit, MI}|[{null, M_STAN_Q,...|      facebook|          1593877230282722|UA000000107364432| 1045.0|\n",
      "|  Android| {595.0, 1, 1}|        1593877930076602|1593878966392505|  {East Chicago, IN}|[{null, M_STAN_T,...|        google|          1593876889575474|UA000000107361347|  595.0|\n",
      "|      iOS|{2290.0, 2, 2}|        1593877650094042|1593877652106953|       {Warwick, RI}|[{null, M_PREM_F,...|        google|          1593876687337581|UA000000107359573| 2290.0|\n",
      "|    macOS| {945.0, 1, 1}|        1593879151529456|1593879197837168|     {Boonville, MO}|[{null, M_STAN_F,...|      facebook|          1593878603312910|UA000000107376872|  945.0|\n",
      "|  Windows| {595.0, 1, 1}|        1593877908876473|1593878020119079|       {Hampton, VA}|[{null, M_STAN_T,...|        google|          1593877033894464|UA000000107362622|  595.0|\n",
      "|  Android| {945.0, 1, 1}|        1593878355764861|1593878641498265|{White Bear Lake,...|[{null, M_STAN_F,...|        direct|          1593877080764516|UA000000107363039|  945.0|\n",
      "|Chrome OS|{1095.0, 1, 1}|        1593879073813036|1593879191730221|   {San Antonio, TX}|[{null, M_PREM_T,...|     instagram|          1593877153633764|UA000000107363715| 1095.0|\n",
      "|    macOS|{1045.0, 1, 1}|        1593877425584678|1593877429621158|        {Searcy, AR}|[{null, M_STAN_Q,...|        direct|          1593876851338276|UA000000107361027| 1045.0|\n",
      "|      iOS|{1045.0, 1, 1}|        1593878984623390|1593879046209960|     {Southport, IN}|[{null, M_STAN_Q,...|     instagram|          1593876574686487|UA000000107358614| 1045.0|\n",
      "|  Windows|{1045.0, 1, 1}|        1593434694145790|1593434696316863|      {Columbus, OH}|[{null, M_STAN_Q,...|     instagram|          1593432259276789|UA000000106006620| 1045.0|\n",
      "|    macOS|{1640.0, 2, 2}|        1593436589297426|1593436628314991|{St. Petersburg, FL}|[{null, M_STAN_T,...|      facebook|          1593433771174842|UA000000106011218| 1640.0|\n",
      "|Chrome OS| {654.0, 2, 2}|        1593427561736870|1593428248499261|        {Farley, IA}|[{null, M_STAN_T,...|        google|          1593424867073851|UA000000105991167|  654.0|\n",
      "|  Windows|{1045.0, 1, 1}|        1593388148852162|1593388365815897|       {Houston, TX}|[{null, M_STAN_Q,...|        direct|          1593383873231306|UA000000105957934| 1045.0|\n",
      "|  Windows|{1795.0, 1, 1}|        1593399598968123|1593399696924475|        {Monroe, LA}|[{null, M_PREM_Q,...|      facebook|          1593398458152390|UA000000105978828| 1795.0|\n",
      "|  Android|{1195.0, 1, 1}|        1593416200959556|1593416273461695|{Donaldsonville, LA}|[{null, M_STAN_K,...|        google|          1593415794401939|UA000000105983663| 1195.0|\n",
      "|      iOS|{1195.0, 1, 1}|        1593394478371736|1593395580886846|    {Shreveport, LA}|[{null, M_STAN_K,...|        google|          1593388592209010|UA000000105968663| 1195.0|\n",
      "|      iOS|{1128.6, 2, 2}|        1593763506976463|1593763527292050|     {San Ramon, CA}|[{NEWBED10, M_STA...|         email|          1593439553381667|UA000000106033948| 1128.6|\n",
      "|  Android|{1075.5, 1, 1}|        1593529030162886|1593529604747277|     {La Vernia, TX}|[{NEWBED10, M_STA...|         email|          1593385351347346|UA000000105961848| 1075.5|\n",
      "|  Windows| {595.0, 1, 1}|        1593439102031927|1593439865607689|        {Boston, MA}|[{null, M_STAN_T,...|      facebook|          1593435521455326|UA000000106017264|  595.0|\n",
      "+---------+--------------+------------------------+----------------+--------------------+--------------------+--------------+--------------------------+-----------------+-------+\n",
      "only showing top 20 rows\n",
      "\n"
     ]
    },
    {
     "data": {
      "text/plain": [
       "cleanDF: org.apache.spark.sql.DataFrame = [device: string, ecommerce: struct<purchase_revenue_in_usd: double, total_item_quantity: bigint ... 1 more field> ... 8 more fields]\n"
      ]
     },
     "execution_count": 7,
     "metadata": {},
     "output_type": "execute_result"
    }
   ],
   "source": [
    "val cleanDF = purchasesDF.drop(\"event_name\")\n",
    "\n",
    "cleanDF.show()\n"
   ]
  },
  {
   "cell_type": "code",
   "execution_count": null,
   "id": "263c1288",
   "metadata": {},
   "outputs": [],
   "source": []
  },
  {
   "cell_type": "markdown",
   "id": "fdeff80c",
   "metadata": {},
   "source": [
    "## 5. Revenus cumulés par source de trafic\n",
    "Obtenir la somme de revenue comme total_rev\n",
    "Obtenir la moyenne de revenue comme avg_rev"
   ]
  },
  {
   "cell_type": "code",
   "execution_count": 8,
   "id": "18d34778",
   "metadata": {},
   "outputs": [
    {
     "name": "stdout",
     "output_type": "stream",
     "text": [
      "+--------------+---------+-----------------+\n",
      "|traffic_source|total_rev|          avg_rev|\n",
      "+--------------+---------+-----------------+\n",
      "|     instagram|   8160.0|           1020.0|\n",
      "|        direct|   9129.0|         1141.125|\n",
      "|       youtube|   3040.0|           1520.0|\n",
      "|         email|  36935.4|998.2540540540541|\n",
      "|      facebook|  12952.0|996.3076923076923|\n",
      "|        google|  28936.0|964.5333333333333|\n",
      "+--------------+---------+-----------------+\n",
      "\n"
     ]
    },
    {
     "data": {
      "text/plain": [
       "import org.apache.spark.sql.functions._\n",
       "trafficDF: org.apache.spark.sql.DataFrame = [traffic_source: string, total_rev: double ... 1 more field]\n"
      ]
     },
     "execution_count": 8,
     "metadata": {},
     "output_type": "execute_result"
    }
   ],
   "source": [
    "import org.apache.spark.sql.functions._\n",
    "\n",
    "val trafficDF = cleanDF.groupBy(\"traffic_source\")\n",
    "  .agg(sum(\"revenue\").alias(\"total_rev\"), avg(\"revenue\").alias(\"avg_rev\"))\n",
    "\n",
    "trafficDF.show\n"
   ]
  },
  {
   "cell_type": "markdown",
   "id": "34b88d3b",
   "metadata": {},
   "source": [
    "## 6. Obtenir les trois principales sources de trafic par revenu total"
   ]
  },
  {
   "cell_type": "code",
   "execution_count": 14,
   "id": "f290bdb9",
   "metadata": {},
   "outputs": [
    {
     "name": "stdout",
     "output_type": "stream",
     "text": [
      "+--------------+---------+-----------------+\n",
      "|traffic_source|total_rev|          avg_rev|\n",
      "+--------------+---------+-----------------+\n",
      "|         email|  36935.4|998.2540540540541|\n",
      "|        google|  28936.0|964.5333333333333|\n",
      "|      facebook|  12952.0|996.3076923076923|\n",
      "+--------------+---------+-----------------+\n",
      "\n"
     ]
    },
    {
     "data": {
      "text/plain": [
       "import org.apache.spark.sql.functions._\n",
       "topTrafficDF: org.apache.spark.sql.Dataset[org.apache.spark.sql.Row] = [traffic_source: string, total_rev: double ... 1 more field]\n"
      ]
     },
     "execution_count": 14,
     "metadata": {},
     "output_type": "execute_result"
    }
   ],
   "source": [
    "import org.apache.spark.sql.functions._\n",
    "\n",
    "val topTrafficDF = trafficDF\n",
    "  .groupBy(\"traffic_source\")\n",
    "  .agg(sum(\"total_rev\").alias(\"total_rev\"), avg(\"avg_rev\").alias(\"avg_rev\"))\n",
    "  .orderBy(desc(\"total_rev\"))\n",
    "  .limit(3)\n",
    "\n",
    "topTrafficDF.show()\n",
    "\n"
   ]
  },
  {
   "cell_type": "markdown",
   "id": "c8a226ee",
   "metadata": {},
   "source": [
    "## 7. Nettoyons les colonnes de revenus pour avoir deux décimales\n"
   ]
  },
  {
   "cell_type": "code",
   "execution_count": 15,
   "id": "7268330d",
   "metadata": {},
   "outputs": [
    {
     "name": "stdout",
     "output_type": "stream",
     "text": [
      "+--------------+---------+-------+\n",
      "|traffic_source|total_rev|avg_rev|\n",
      "+--------------+---------+-------+\n",
      "|         email|  36935.4| 998.25|\n",
      "|        google|  28936.0| 964.53|\n",
      "|      facebook|  12952.0| 996.31|\n",
      "+--------------+---------+-------+\n",
      "\n"
     ]
    },
    {
     "data": {
      "text/plain": [
       "import org.apache.spark.sql.functions._\n",
       "finalDF: org.apache.spark.sql.DataFrame = [traffic_source: string, total_rev: double ... 1 more field]\n"
      ]
     },
     "execution_count": 15,
     "metadata": {},
     "output_type": "execute_result"
    }
   ],
   "source": [
    "import org.apache.spark.sql.functions._\n",
    "\n",
    "val finalDF = topTrafficDF\n",
    "  .withColumn(\"avg_rev\", round(col(\"avg_rev\"), 2))\n",
    "  .withColumn(\"total_rev\", round(col(\"total_rev\"), 2))\n",
    "\n",
    "finalDF.show()\n"
   ]
  },
  {
   "cell_type": "markdown",
   "id": "2355b292",
   "metadata": {},
   "source": [
    "## 8. Sauvegardons les données\n"
   ]
  },
  {
   "cell_type": "code",
   "execution_count": 17,
   "id": "632cdc37",
   "metadata": {},
   "outputs": [],
   "source": [
    "finalDF.write.parquet(\"projetBigData/projetBigData.parquet\")\n"
   ]
  },
  {
   "cell_type": "markdown",
   "id": "77d0d5de",
   "metadata": {},
   "source": [
    "\n"
   ]
  }
 ],
 "metadata": {
  "kernelspec": {
   "display_name": "spylon-kernel",
   "language": "scala",
   "name": "spylon-kernel"
  },
  "language_info": {
   "codemirror_mode": "text/x-scala",
   "file_extension": ".scala",
   "help_links": [
    {
     "text": "MetaKernel Magics",
     "url": "https://metakernel.readthedocs.io/en/latest/source/README.html"
    }
   ],
   "mimetype": "text/x-scala",
   "name": "scala",
   "pygments_lexer": "scala",
   "version": "0.4.1"
  }
 },
 "nbformat": 4,
 "nbformat_minor": 5
}
